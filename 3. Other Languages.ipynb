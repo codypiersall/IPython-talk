{
 "cells": [
  {
   "cell_type": "markdown",
   "metadata": {},
   "source": [
    "## It can do other languages too.\n",
    "\n",
    "* Julia\n",
    "* R\n",
    "* Ruby\n",
    "* AND MORE\n",
    "You can either use cell magics or actually use a different language as the client to the notebook.  We'll just look at cell magics here."
   ]
  },
  {
   "cell_type": "markdown",
   "metadata": {},
   "source": [
    "# Cell Magics"
   ]
  },
  {
   "cell_type": "markdown",
   "metadata": {},
   "source": [
    "## Ruby"
   ]
  },
  {
   "cell_type": "code",
   "execution_count": null,
   "metadata": {
    "collapsed": false
   },
   "outputs": [],
   "source": [
    "%%ruby \n",
    "\n",
    "# re-open Ruby's Time class\n",
    "class Time\n",
    "  def yesterday\n",
    "    self - 86400\n",
    "  end\n",
    "end\n",
    " \n",
    "today = Time.now               \n",
    "yesterday = today.yesterday\n",
    "\n",
    "puts today\n",
    "puts yesterday\n",
    "puts \"IT CAN DO RUBY\"\n"
   ]
  },
  {
   "cell_type": "code",
   "execution_count": null,
   "metadata": {
    "collapsed": false
   },
   "outputs": [],
   "source": [
    "%%bash\n",
    "echo `ls`"
   ]
  },
  {
   "cell_type": "code",
   "execution_count": null,
   "metadata": {
    "collapsed": true
   },
   "outputs": [],
   "source": []
  }
 ],
 "metadata": {
  "kernelspec": {
   "display_name": "Python 3",
   "language": "python",
   "name": "python3"
  },
  "language_info": {
   "codemirror_mode": {
    "name": "ipython",
    "version": 3
   },
   "file_extension": ".py",
   "mimetype": "text/x-python",
   "name": "python",
   "nbconvert_exporter": "python",
   "pygments_lexer": "ipython3",
   "version": "3.3.2+"
  }
 },
 "nbformat": 4,
 "nbformat_minor": 0
}
