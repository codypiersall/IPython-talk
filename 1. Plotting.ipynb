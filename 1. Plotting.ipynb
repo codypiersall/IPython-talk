{
 "cells": [
  {
   "cell_type": "markdown",
   "metadata": {},
   "source": [
    "# Plotting things is a strong point of the notebook.  Let's plot stuff.\n",
    "\n",
    "First things first: let's import all the good stuff."
   ]
  },
  {
   "cell_type": "code",
   "execution_count": null,
   "metadata": {
    "collapsed": false
   },
   "outputs": [],
   "source": [
    "%matplotlib inline\n",
    "from numpy import *  # common practice to import * in the notebook\n",
    "from pylab import *"
   ]
  },
  {
   "cell_type": "markdown",
   "metadata": {},
   "source": [
    "## What was that `%` doing there???\n",
    "\n",
    "That's called a magic, and it makes IPython amazing."
   ]
  },
  {
   "cell_type": "code",
   "execution_count": null,
   "metadata": {
    "collapsed": false
   },
   "outputs": [],
   "source": [
    "x = linspace(-pi, pi)\n",
    "y = sin(x)\n",
    "plot(x, y)\n",
    "plot(x, y * 2)\n",
    "plot(x, y / 2)\n",
    "title(\"I think it's a sign\")\n",
    "xlabel('x')\n",
    "ylabel('y');"
   ]
  },
  {
   "cell_type": "markdown",
   "metadata": {},
   "source": [
    "# Graphs are amazing and IPython is amazing."
   ]
  },
  {
   "cell_type": "code",
   "execution_count": null,
   "metadata": {
    "collapsed": true
   },
   "outputs": [],
   "source": []
  }
 ],
 "metadata": {
  "kernelspec": {
   "display_name": "Python 3",
   "language": "python",
   "name": "python3"
  },
  "language_info": {
   "codemirror_mode": {
    "name": "ipython",
    "version": 3
   },
   "file_extension": ".py",
   "mimetype": "text/x-python",
   "name": "python",
   "nbconvert_exporter": "python",
   "pygments_lexer": "ipython3",
   "version": "3.3.2+"
  }
 },
 "nbformat": 4,
 "nbformat_minor": 0
}
